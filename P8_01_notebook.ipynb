{
 "cells": [
  {
   "cell_type": "markdown",
   "metadata": {},
   "source": [
    "# Librairies "
   ]
  },
  {
   "cell_type": "code",
   "execution_count": 1,
   "metadata": {},
   "outputs": [
    {
     "name": "stderr",
     "output_type": "stream",
     "text": [
      "2022-02-10 14:29:22.449341: W tensorflow/stream_executor/platform/default/dso_loader.cc:64] Could not load dynamic library 'libcudart.so.11.0'; dlerror: libcudart.so.11.0: cannot open shared object file: No such file or directory\n",
      "2022-02-10 14:29:22.449380: I tensorflow/stream_executor/cuda/cudart_stub.cc:29] Ignore above cudart dlerror if you do not have a GPU set up on your machine.\n"
     ]
    },
    {
     "name": "stdout",
     "output_type": "stream",
     "text": [
      "2.8.0\n"
     ]
    }
   ],
   "source": [
    "import tensorflow as tf\n",
    "print(tf.__version__)"
   ]
  },
  {
   "cell_type": "code",
   "execution_count": 2,
   "metadata": {},
   "outputs": [],
   "source": [
    "# paramétrage de l'environnement pour python3 :\n",
    "#import pandas as pd\n",
    "\n",
    "import sys\n",
    "# rebuild tensorflow\n",
    "import os\n",
    "os.environ['TF_CPP_MIN_LOG_LEVEL'] = '2'\n",
    "\n",
    "from os import listdir\n",
    "\n",
    "os.environ['PYSPARK_PYTHON'] = sys.executable\n",
    "os.environ['PYSPARK_DRIVER_PYTHON'] = sys.executable\n",
    "\n",
    "import boto3\n",
    "import io\n",
    "\n",
    "from PIL import Image\n",
    "\n",
    "import timeit\n",
    "\n"
   ]
  },
  {
   "cell_type": "code",
   "execution_count": 3,
   "metadata": {},
   "outputs": [],
   "source": [
    "from keras.preprocessing.image import load_img, img_to_array\n",
    "from keras.applications.vgg16 import preprocess_input\n",
    "from keras.applications.vgg16 import VGG16\n",
    "import keras\n",
    "\n",
    "from sklearn import manifold, decomposition\n",
    "import numpy as np"
   ]
  },
  {
   "cell_type": "code",
   "execution_count": 4,
   "metadata": {},
   "outputs": [
    {
     "name": "stdout",
     "output_type": "stream",
     "text": [
      "Populating the interactive namespace from numpy and matplotlib\n"
     ]
    }
   ],
   "source": [
    "%pylab inline\n",
    "import matplotlib.pyplot as plt\n",
    "import matplotlib.image as mpimg"
   ]
  },
  {
   "cell_type": "markdown",
   "metadata": {},
   "source": [
    "# Code"
   ]
  },
  {
   "cell_type": "markdown",
   "metadata": {},
   "source": [
    "### Initialisation, création Session Spark :"
   ]
  },
  {
   "cell_type": "code",
   "execution_count": 5,
   "metadata": {},
   "outputs": [
    {
     "name": "stderr",
     "output_type": "stream",
     "text": [
      "Using Spark's default log4j profile: org/apache/spark/log4j-defaults.properties\n",
      "Setting default log level to \"WARN\".\n",
      "To adjust logging level use sc.setLogLevel(newLevel). For SparkR, use setLogLevel(newLevel).\n",
      "22/02/10 14:29:31 WARN NativeCodeLoader: Unable to load native-hadoop library for your platform... using builtin-java classes where applicable\n"
     ]
    }
   ],
   "source": [
    "from pyspark.sql import SparkSession\n",
    "\n",
    "spark = SparkSession.builder.master(\"local[1]\").appName(\"FruitsP8\").getOrCreate()"
   ]
  },
  {
   "cell_type": "code",
   "execution_count": 85,
   "metadata": {},
   "outputs": [],
   "source": [
    "from pyspark import SparkContext, SparkConf\n",
    "\n",
    "conf = SparkConf().setAppName(\"miniProject\").setMaster(\"local[*]\")\n",
    "sc = SparkContext.getOrCreate(conf)\n",
    "\n",
    "sc.setLogLevel(\"ERROR\")\n"
   ]
  },
  {
   "cell_type": "markdown",
   "metadata": {},
   "source": [
    "### Création de la liste des fruits :"
   ]
  },
  {
   "cell_type": "code",
   "execution_count": 7,
   "metadata": {},
   "outputs": [],
   "source": [
    "client = boto3.client('s3')\n",
    "s3 = boto3.resource('s3')\n",
    "bucket_name = \"donneesp8v2\""
   ]
  },
  {
   "cell_type": "code",
   "execution_count": 8,
   "metadata": {},
   "outputs": [],
   "source": [
    "objects_dict = client.list_objects(Bucket=bucket_name, Prefix='fruits-360')"
   ]
  },
  {
   "cell_type": "code",
   "execution_count": 9,
   "metadata": {},
   "outputs": [
    {
     "data": {
      "text/plain": [
       "['fruits-360/Apple Crimson Snow/0_100.jpg',\n",
       " 'fruits-360/Apple Crimson Snow/10_100.jpg',\n",
       " 'fruits-360/Apple Crimson Snow/111_100.jpg',\n",
       " 'fruits-360/Apple Golden 2/0_100.jpg',\n",
       " 'fruits-360/Apple Golden 2/100_100.jpg',\n",
       " 'fruits-360/Apple Golden 2/101_100.jpg',\n",
       " 'fruits-360/Apple Granny Smith/0_100.jpg',\n",
       " 'fruits-360/Apple Granny Smith/100_100.jpg',\n",
       " 'fruits-360/Apple Granny Smith/101_100.jpg',\n",
       " 'fruits-360/Apple Red 1/0_100.jpg',\n",
       " 'fruits-360/Apple Red 1/100_100.jpg',\n",
       " 'fruits-360/Apple Red 1/101_100.jpg',\n",
       " 'fruits-360/Apple Red 3/0_100.jpg',\n",
       " 'fruits-360/Apple Red 3/100_100.jpg',\n",
       " 'fruits-360/Apple Red 3/101_100.jpg',\n",
       " 'fruits-360/Apple Red Yellow 1/0_100.jpg',\n",
       " 'fruits-360/Apple Red Yellow 1/100_100.jpg',\n",
       " 'fruits-360/Apple Red Yellow 1/101_100.jpg',\n",
       " 'fruits-360/Apricot/0_100.jpg',\n",
       " 'fruits-360/Apricot/100_100.jpg',\n",
       " 'fruits-360/Apricot/101_100.jpg',\n",
       " 'fruits-360/Avocado/0_100.jpg',\n",
       " 'fruits-360/Avocado/100_100.jpg',\n",
       " 'fruits-360/Avocado/101_100.jpg',\n",
       " 'fruits-360/Banana Red/0_100.jpg',\n",
       " 'fruits-360/Banana Red/100_100.jpg',\n",
       " 'fruits-360/Banana Red/101_100.jpg',\n",
       " 'fruits-360/Beetroot/0_100.jpg',\n",
       " 'fruits-360/Beetroot/100_100.jpg',\n",
       " 'fruits-360/Beetroot/101_100.jpg',\n",
       " 'fruits-360/Cactus fruit/0_100.jpg',\n",
       " 'fruits-360/Cactus fruit/100_100.jpg',\n",
       " 'fruits-360/Cactus fruit/101_100.jpg',\n",
       " 'fruits-360/Cantaloupe 2/100_100.jpg',\n",
       " 'fruits-360/Cantaloupe 2/101_100.jpg',\n",
       " 'fruits-360/Cantaloupe 2/102_100.jpg',\n",
       " 'fruits-360/Cauliflower/0_100.jpg',\n",
       " 'fruits-360/Cauliflower/100_100.jpg',\n",
       " 'fruits-360/Cauliflower/101_100.jpg',\n",
       " 'fruits-360/Cherry 2/105_100.jpg',\n",
       " 'fruits-360/Cherry 2/106_100.jpg',\n",
       " 'fruits-360/Cherry 2/107_100.jpg',\n",
       " 'fruits-360/Cherry Wax Black/0_100.jpg',\n",
       " 'fruits-360/Cherry Wax Black/100_100.jpg',\n",
       " 'fruits-360/Cherry Wax Black/101_100.jpg',\n",
       " 'fruits-360/Cherry Wax Yellow/0_100.jpg',\n",
       " 'fruits-360/Cherry Wax Yellow/100_100.jpg',\n",
       " 'fruits-360/Cherry Wax Yellow/108_100.jpg',\n",
       " 'fruits-360/Clementine/10_100.jpg',\n",
       " 'fruits-360/Clementine/118_100.jpg',\n",
       " 'fruits-360/Clementine/119_100.jpg',\n",
       " 'fruits-360/Corn Husk/102_100.jpg',\n",
       " 'fruits-360/Corn Husk/103_100.jpg',\n",
       " 'fruits-360/Corn Husk/104_100.jpg',\n",
       " 'fruits-360/Cucumber Ripe 2/0_100.jpg',\n",
       " 'fruits-360/Cucumber Ripe 2/100_100.jpg',\n",
       " 'fruits-360/Cucumber Ripe 2/101_100.jpg',\n",
       " 'fruits-360/Dates/0_100.jpg',\n",
       " 'fruits-360/Dates/13_100.jpg',\n",
       " 'fruits-360/Dates/140_100.jpg',\n",
       " 'fruits-360/Fig/0_100.jpg',\n",
       " 'fruits-360/Fig/100_100.jpg',\n",
       " 'fruits-360/Fig/101_100.jpg',\n",
       " 'fruits-360/Granadilla/0_100.jpg',\n",
       " 'fruits-360/Granadilla/10_100.jpg',\n",
       " 'fruits-360/Granadilla/116_100.jpg',\n",
       " 'fruits-360/Grape Pink/0_100.jpg',\n",
       " 'fruits-360/Grape Pink/100_100.jpg',\n",
       " 'fruits-360/Grape Pink/101_100.jpg',\n",
       " 'fruits-360/Grape White 3/0_100.jpg',\n",
       " 'fruits-360/Grape White 3/100_100.jpg',\n",
       " 'fruits-360/Grape White 3/101_100.jpg',\n",
       " 'fruits-360/Grape White/0_100.jpg',\n",
       " 'fruits-360/Grape White/100_100.jpg',\n",
       " 'fruits-360/Grape White/103_100.jpg',\n",
       " 'fruits-360/Grapefruit White/0_100.jpg',\n",
       " 'fruits-360/Grapefruit White/100_100.jpg',\n",
       " 'fruits-360/Grapefruit White/101_100.jpg',\n",
       " 'fruits-360/Hazelnut/0_100.jpg',\n",
       " 'fruits-360/Hazelnut/100_100.jpg',\n",
       " 'fruits-360/Hazelnut/101_100.jpg',\n",
       " 'fruits-360/Kaki/100_100.jpg',\n",
       " 'fruits-360/Kaki/101_100.jpg',\n",
       " 'fruits-360/Kaki/102_100.jpg',\n",
       " 'fruits-360/Kohlrabi/0_100.jpg',\n",
       " 'fruits-360/Kohlrabi/100_100.jpg',\n",
       " 'fruits-360/Kohlrabi/101_100.jpg',\n",
       " 'fruits-360/Lemon Meyer/0_100.jpg',\n",
       " 'fruits-360/Lemon Meyer/100_100.jpg',\n",
       " 'fruits-360/Lemon Meyer/101_100.jpg',\n",
       " 'fruits-360/Limes/0_100.jpg',\n",
       " 'fruits-360/Limes/100_100.jpg',\n",
       " 'fruits-360/Limes/101_100.jpg',\n",
       " 'fruits-360/Mandarine/0_100.jpg',\n",
       " 'fruits-360/Mandarine/100_100.jpg',\n",
       " 'fruits-360/Mandarine/101_100.jpg',\n",
       " 'fruits-360/Mango/100_100.jpg',\n",
       " 'fruits-360/Mango/101_100.jpg',\n",
       " 'fruits-360/Mango/102_100.jpg',\n",
       " 'fruits-360/Maracuja/100_100.jpg',\n",
       " 'fruits-360/Maracuja/101_100.jpg',\n",
       " 'fruits-360/Maracuja/136_100.jpg',\n",
       " 'fruits-360/Mulberry/0_100.jpg',\n",
       " 'fruits-360/Mulberry/100_100.jpg',\n",
       " 'fruits-360/Mulberry/101_100.jpg',\n",
       " 'fruits-360/Nectarine/0_100.jpg',\n",
       " 'fruits-360/Nectarine/100_100.jpg',\n",
       " 'fruits-360/Nectarine/101_100.jpg',\n",
       " 'fruits-360/Nut Pecan/0_100.jpg',\n",
       " 'fruits-360/Nut Pecan/100_100.jpg',\n",
       " 'fruits-360/Nut Pecan/101_100.jpg',\n",
       " 'fruits-360/Onion Red/100_100.jpg',\n",
       " 'fruits-360/Onion Red/101_100.jpg',\n",
       " 'fruits-360/Onion Red/102_100.jpg',\n",
       " 'fruits-360/Orange/0_100.jpg',\n",
       " 'fruits-360/Orange/100_100.jpg',\n",
       " 'fruits-360/Orange/101_100.jpg',\n",
       " 'fruits-360/Passion Fruit/0_100.jpg',\n",
       " 'fruits-360/Passion Fruit/100_100.jpg',\n",
       " 'fruits-360/Passion Fruit/101_100.jpg',\n",
       " 'fruits-360/Peach Flat/0_100.jpg',\n",
       " 'fruits-360/Peach Flat/100_100.jpg',\n",
       " 'fruits-360/Peach Flat/101_100.jpg',\n",
       " 'fruits-360/Pear 2/100_100.jpg',\n",
       " 'fruits-360/Pear 2/101_100.jpg',\n",
       " 'fruits-360/Pear 2/102_100.jpg',\n",
       " 'fruits-360/Pear Forelle/0_100.jpg',\n",
       " 'fruits-360/Pear Forelle/100_100.jpg',\n",
       " 'fruits-360/Pear Forelle/101_100.jpg',\n",
       " 'fruits-360/Pear Monster/0_100.jpg',\n",
       " 'fruits-360/Pear Monster/10_100.jpg',\n",
       " 'fruits-360/Pear Monster/11_100.jpg',\n",
       " 'fruits-360/Pear Stone/100_100.jpg',\n",
       " 'fruits-360/Pear Stone/101_100.jpg',\n",
       " 'fruits-360/Pear Stone/102_100.jpg',\n",
       " 'fruits-360/Pear/0_100.jpg',\n",
       " 'fruits-360/Pear/100_100.jpg',\n",
       " 'fruits-360/Pear/101_100.jpg',\n",
       " 'fruits-360/Pepper Green/0_100.jpg',\n",
       " 'fruits-360/Pepper Green/10_100.jpg',\n",
       " 'fruits-360/Pepper Green/111_100.jpg',\n",
       " 'fruits-360/Pepper Red/100_100.jpg',\n",
       " 'fruits-360/Pepper Red/101_100.jpg',\n",
       " 'fruits-360/Pepper Red/102_100.jpg',\n",
       " 'fruits-360/Physalis with Husk/0_100.jpg',\n",
       " 'fruits-360/Physalis with Husk/100_100.jpg',\n",
       " 'fruits-360/Physalis with Husk/101_100.jpg',\n",
       " 'fruits-360/Pineapple Mini/100_100.jpg',\n",
       " 'fruits-360/Pineapple Mini/101_100.jpg',\n",
       " 'fruits-360/Pineapple Mini/102_100.jpg',\n",
       " 'fruits-360/Pitahaya Red/100_100.jpg',\n",
       " 'fruits-360/Pitahaya Red/101_100.jpg',\n",
       " 'fruits-360/Pitahaya Red/102_100.jpg',\n",
       " 'fruits-360/Plum 3/0_100.jpg',\n",
       " 'fruits-360/Plum 3/100_100.jpg',\n",
       " 'fruits-360/Plum 3/101_100.jpg',\n",
       " 'fruits-360/Pomegranate/0_100.jpg',\n",
       " 'fruits-360/Pomegranate/100_100.jpg',\n",
       " 'fruits-360/Pomegranate/101_100.jpg',\n",
       " 'fruits-360/Potato Red Washed/0_100.jpg',\n",
       " 'fruits-360/Potato Red Washed/100_100.jpg',\n",
       " 'fruits-360/Potato Red Washed/101_100.jpg',\n",
       " 'fruits-360/Potato Sweet/0_100.jpg',\n",
       " 'fruits-360/Potato Sweet/102_100.jpg',\n",
       " 'fruits-360/Potato Sweet/104_100.jpg',\n",
       " 'fruits-360/Quince/0_100.jpg',\n",
       " 'fruits-360/Quince/100_100.jpg',\n",
       " 'fruits-360/Quince/101_100.jpg',\n",
       " 'fruits-360/Raspberry/0_100.jpg',\n",
       " 'fruits-360/Raspberry/10_100.jpg',\n",
       " 'fruits-360/Raspberry/113_100.jpg',\n",
       " 'fruits-360/Salak/0_100.jpg',\n",
       " 'fruits-360/Salak/100_100.jpg',\n",
       " 'fruits-360/Salak/101_100.jpg',\n",
       " 'fruits-360/Strawberry/0_100.jpg',\n",
       " 'fruits-360/Strawberry/100_100.jpg',\n",
       " 'fruits-360/Strawberry/101_100.jpg',\n",
       " 'fruits-360/Tangelo/0_100.jpg',\n",
       " 'fruits-360/Tangelo/10_100.jpg',\n",
       " 'fruits-360/Tangelo/117_100.jpg',\n",
       " 'fruits-360/Tomato 2/0_100.jpg',\n",
       " 'fruits-360/Tomato 2/10_100.jpg',\n",
       " 'fruits-360/Tomato 2/113_100.jpg',\n",
       " 'fruits-360/Tomato 4/0_100.jpg',\n",
       " 'fruits-360/Tomato 4/100_100.jpg',\n",
       " 'fruits-360/Tomato 4/101_100.jpg',\n",
       " 'fruits-360/Tomato Heart/100_100.jpg',\n",
       " 'fruits-360/Tomato Heart/101_100.jpg',\n",
       " 'fruits-360/Tomato Heart/102_100.jpg',\n",
       " 'fruits-360/Tomato not Ripened/100_100.jpg',\n",
       " 'fruits-360/Tomato not Ripened/101_100.jpg',\n",
       " 'fruits-360/Tomato not Ripened/102_100.jpg',\n",
       " 'fruits-360/Walnut/0_100.jpg',\n",
       " 'fruits-360/Walnut/101_100.jpg',\n",
       " 'fruits-360/Walnut/102_100.jpg']"
      ]
     },
     "execution_count": 9,
     "metadata": {},
     "output_type": "execute_result"
    }
   ],
   "source": [
    "#s3_keys = [item['Key'] for item in objects_dict['Contents'] if item['Key'].endswith('.parquet')]\n",
    "\n",
    "s3_keys = [item['Key'] for item in objects_dict['Contents']]\n",
    "s3_keys\n"
   ]
  },
  {
   "cell_type": "code",
   "execution_count": 10,
   "metadata": {},
   "outputs": [
    {
     "data": {
      "text/plain": [
       "195"
      ]
     },
     "execution_count": 10,
     "metadata": {},
     "output_type": "execute_result"
    }
   ],
   "source": [
    "len(s3_keys)"
   ]
  },
  {
   "cell_type": "code",
   "execution_count": 59,
   "metadata": {},
   "outputs": [
    {
     "data": {
      "text/plain": [
       "65.0"
      ]
     },
     "execution_count": 59,
     "metadata": {},
     "output_type": "execute_result"
    }
   ],
   "source": [
    "# strategy was to select three images per category, also there is 195/3 categories\n",
    "len(s3_keys)/3"
   ]
  },
  {
   "cell_type": "markdown",
   "metadata": {},
   "source": [
    "### Création dataframe "
   ]
  },
  {
   "cell_type": "code",
   "execution_count": 11,
   "metadata": {},
   "outputs": [
    {
     "name": "stderr",
     "output_type": "stream",
     "text": [
      "[Stage 0:>                                                          (0 + 1) / 1]\r"
     ]
    },
    {
     "name": "stdout",
     "output_type": "stream",
     "text": [
      "+-----------------------------------------+\n",
      "|value                                    |\n",
      "+-----------------------------------------+\n",
      "|fruits-360/Apple Crimson Snow/0_100.jpg  |\n",
      "|fruits-360/Apple Crimson Snow/10_100.jpg |\n",
      "|fruits-360/Apple Crimson Snow/111_100.jpg|\n",
      "|fruits-360/Apple Golden 2/0_100.jpg      |\n",
      "|fruits-360/Apple Golden 2/100_100.jpg    |\n",
      "|fruits-360/Apple Golden 2/101_100.jpg    |\n",
      "|fruits-360/Apple Granny Smith/0_100.jpg  |\n",
      "|fruits-360/Apple Granny Smith/100_100.jpg|\n",
      "|fruits-360/Apple Granny Smith/101_100.jpg|\n",
      "|fruits-360/Apple Red 1/0_100.jpg         |\n",
      "|fruits-360/Apple Red 1/100_100.jpg       |\n",
      "|fruits-360/Apple Red 1/101_100.jpg       |\n",
      "|fruits-360/Apple Red 3/0_100.jpg         |\n",
      "|fruits-360/Apple Red 3/100_100.jpg       |\n",
      "|fruits-360/Apple Red 3/101_100.jpg       |\n",
      "|fruits-360/Apple Red Yellow 1/0_100.jpg  |\n",
      "|fruits-360/Apple Red Yellow 1/100_100.jpg|\n",
      "|fruits-360/Apple Red Yellow 1/101_100.jpg|\n",
      "|fruits-360/Apricot/0_100.jpg             |\n",
      "|fruits-360/Apricot/100_100.jpg           |\n",
      "+-----------------------------------------+\n",
      "only showing top 20 rows\n",
      "\n"
     ]
    },
    {
     "name": "stderr",
     "output_type": "stream",
     "text": [
      "                                                                                \r"
     ]
    }
   ],
   "source": [
    "from pyspark.sql.types import StringType\n",
    "\n",
    "#spark.createDataFrame(mylist, IntegerType()).show()\n",
    "\n",
    "columns = ['s3_keys']\n",
    "df = spark.createDataFrame(s3_keys, StringType(), ['s3_keys'])\n",
    "df.show(truncate=False)"
   ]
  },
  {
   "cell_type": "code",
   "execution_count": 12,
   "metadata": {},
   "outputs": [
    {
     "name": "stdout",
     "output_type": "stream",
     "text": [
      "+-----------------------------------------+----------+------------------+-----------+\n",
      "|path                                     |Folder    |Category          |Image      |\n",
      "+-----------------------------------------+----------+------------------+-----------+\n",
      "|fruits-360/Apple Crimson Snow/0_100.jpg  |fruits-360|Apple Crimson Snow|0_100.jpg  |\n",
      "|fruits-360/Apple Crimson Snow/10_100.jpg |fruits-360|Apple Crimson Snow|10_100.jpg |\n",
      "|fruits-360/Apple Crimson Snow/111_100.jpg|fruits-360|Apple Crimson Snow|111_100.jpg|\n",
      "|fruits-360/Apple Golden 2/0_100.jpg      |fruits-360|Apple Golden 2    |0_100.jpg  |\n",
      "|fruits-360/Apple Golden 2/100_100.jpg    |fruits-360|Apple Golden 2    |100_100.jpg|\n",
      "|fruits-360/Apple Golden 2/101_100.jpg    |fruits-360|Apple Golden 2    |101_100.jpg|\n",
      "|fruits-360/Apple Granny Smith/0_100.jpg  |fruits-360|Apple Granny Smith|0_100.jpg  |\n",
      "|fruits-360/Apple Granny Smith/100_100.jpg|fruits-360|Apple Granny Smith|100_100.jpg|\n",
      "|fruits-360/Apple Granny Smith/101_100.jpg|fruits-360|Apple Granny Smith|101_100.jpg|\n",
      "|fruits-360/Apple Red 1/0_100.jpg         |fruits-360|Apple Red 1       |0_100.jpg  |\n",
      "|fruits-360/Apple Red 1/100_100.jpg       |fruits-360|Apple Red 1       |100_100.jpg|\n",
      "|fruits-360/Apple Red 1/101_100.jpg       |fruits-360|Apple Red 1       |101_100.jpg|\n",
      "|fruits-360/Apple Red 3/0_100.jpg         |fruits-360|Apple Red 3       |0_100.jpg  |\n",
      "|fruits-360/Apple Red 3/100_100.jpg       |fruits-360|Apple Red 3       |100_100.jpg|\n",
      "|fruits-360/Apple Red 3/101_100.jpg       |fruits-360|Apple Red 3       |101_100.jpg|\n",
      "|fruits-360/Apple Red Yellow 1/0_100.jpg  |fruits-360|Apple Red Yellow 1|0_100.jpg  |\n",
      "|fruits-360/Apple Red Yellow 1/100_100.jpg|fruits-360|Apple Red Yellow 1|100_100.jpg|\n",
      "|fruits-360/Apple Red Yellow 1/101_100.jpg|fruits-360|Apple Red Yellow 1|101_100.jpg|\n",
      "|fruits-360/Apricot/0_100.jpg             |fruits-360|Apricot           |0_100.jpg  |\n",
      "|fruits-360/Apricot/100_100.jpg           |fruits-360|Apricot           |100_100.jpg|\n",
      "+-----------------------------------------+----------+------------------+-----------+\n",
      "only showing top 20 rows\n",
      "\n"
     ]
    }
   ],
   "source": [
    "# importing all from pyspark.sql.function\n",
    "from pyspark.sql.functions import *\n",
    "\n",
    "# split() function defining parameters\n",
    "split_cols = split(df['value'], '/')\n",
    "  \n",
    "# Now applying split() using withColumn()\n",
    "df1 = df.withColumn('Folder', split_cols.getItem(0)) \\\n",
    "    .withColumn('Category', split_cols.getItem(1)) \\\n",
    "    .withColumn('Image', split_cols.getItem(2))\n",
    "\n",
    "df1 = df1.withColumnRenamed('value', 'path')\n",
    "\n",
    "df1.show(truncate=False)"
   ]
  },
  {
   "cell_type": "code",
   "execution_count": null,
   "metadata": {},
   "outputs": [],
   "source": []
  },
  {
   "cell_type": "markdown",
   "metadata": {},
   "source": [
    "# Traitement d'images (VGG16)"
   ]
  },
  {
   "cell_type": "markdown",
   "metadata": {},
   "source": [
    "### Pré-traitement : VGG16"
   ]
  },
  {
   "cell_type": "code",
   "execution_count": 13,
   "metadata": {},
   "outputs": [
    {
     "name": "stderr",
     "output_type": "stream",
     "text": [
      "2022-02-10 14:29:55.073382: W tensorflow/stream_executor/platform/default/dso_loader.cc:64] Could not load dynamic library 'libcuda.so.1'; dlerror: libcuda.so.1: cannot open shared object file: No such file or directory\n",
      "2022-02-10 14:29:55.073421: W tensorflow/stream_executor/cuda/cuda_driver.cc:269] failed call to cuInit: UNKNOWN ERROR (303)\n",
      "2022-02-10 14:29:55.073442: I tensorflow/stream_executor/cuda/cuda_diagnostics.cc:156] kernel driver does not appear to be running on this host (ip-172-31-27-4.us-east-2.compute.internal): /proc/driver/nvidia/version does not exist\n",
      "2022-02-10 14:29:55.073774: I tensorflow/core/platform/cpu_feature_guard.cc:151] This TensorFlow binary is optimized with oneAPI Deep Neural Network Library (oneDNN) to use the following CPU instructions in performance-critical operations:  AVX2 FMA\n",
      "To enable them in other operations, rebuild TensorFlow with the appropriate compiler flags.\n"
     ]
    }
   ],
   "source": [
    "# création du modèle vgg16\n",
    "# on ne conserve pas la couche de sortie, de façon à traiter nos images par la suite et obtenir des features caractéristiques en sortie\n",
    "\n",
    "model = tf.keras.Sequential()\n",
    "\n"
   ]
  },
  {
   "cell_type": "code",
   "execution_count": 14,
   "metadata": {},
   "outputs": [],
   "source": [
    "vgg16 = VGG16(include_top=False,weights=\"imagenet\",input_shape=(224, 224, 3)) # Création du modèle VGG-16 implementé par Keras sans la dernière couche\n",
    "\n"
   ]
  },
  {
   "cell_type": "code",
   "execution_count": 15,
   "metadata": {},
   "outputs": [
    {
     "name": "stdout",
     "output_type": "stream",
     "text": [
      "Model: \"sequential\"\n",
      "_________________________________________________________________\n",
      " Layer (type)                Output Shape              Param #   \n",
      "=================================================================\n",
      " vgg16 (Functional)          (None, 7, 7, 512)         14714688  \n",
      "                                                                 \n",
      " flatten (Flatten)           (None, 25088)             0         \n",
      "                                                                 \n",
      " dense (Dense)               (None, 512)               12845568  \n",
      "                                                                 \n",
      "=================================================================\n",
      "Total params: 27,560,256\n",
      "Trainable params: 0\n",
      "Non-trainable params: 27,560,256\n",
      "_________________________________________________________________\n"
     ]
    }
   ],
   "source": [
    "### suite à soutenance P8 : \n",
    "### attention dans la création du modèle\n",
    "### non sens de supprimer les 4 dernières couches fully connected du modèle vgg16 et d'en rajouter une 'artificielle'\n",
    "### soit on supprime une seule couche, soit deux soit trois\n",
    "### soit on supprime les 4 et on fait un flatten (et on sera a priori à 25088 en dimension du dernier vecteur)\n",
    "### voir : https://www.kaggle.com/getting-started/178568\n",
    "\n",
    "\n",
    "\n",
    "model.add(vgg16)\n",
    "#model.add(tf.keras.layers.Dense(512))\n",
    "model.add(tf.keras.layers.Flatten())\n",
    "#model.add(tf.keras.layers.Dense(4096))\n",
    "#model.add(tf.keras.layers.Dense(1024))\n",
    "\n",
    "model.add(tf.keras.layers.Dense(512))\n",
    "\n",
    "model.compile(loss='binary_crossentropy', optimizer='adam', metrics=['accuracy'])\n",
    "\n",
    "for layer in model.layers:\n",
    "    layer.trainable = False\n",
    "\n",
    "model.build((None,224,224,3))\n",
    "\n",
    "model.summary()"
   ]
  },
  {
   "cell_type": "code",
   "execution_count": 16,
   "metadata": {},
   "outputs": [
    {
     "name": "stdout",
     "output_type": "stream",
     "text": [
      "66.53127185399995\n"
     ]
    }
   ],
   "source": [
    "# création de la liste des valeurs des images prétraitées selon le modèle vgg16 :\n",
    "\n",
    "vgg16_list = []\n",
    "bucket_name = \"donneesp8v2\"\n",
    "bucket = s3.Bucket('donneesp8v2')\n",
    "\n",
    "#bucket = s3.Bucket('donneesp8')\n",
    "\n",
    "start_time = timeit.default_timer()\n",
    "\n",
    "\n",
    "for i in range(len(s3_keys)):\n",
    "\n",
    "    # fetching object from bucket   \n",
    "    obj = bucket.Object(s3_keys[i])\n",
    "    \n",
    "    # use : .get() to retrieves objects from Amazon S3 \n",
    "    img_body = obj.get()['Body']\n",
    "    \n",
    "    #file_content = file_obj[\"Body\"].read()\n",
    "    \n",
    "    img = Image.open(img_body).resize((224, 224))  # Charger l'image\n",
    "    img = img_to_array(img)  # Convertir en tableau numpy\n",
    "    img = img.reshape((1, img.shape[0], img.shape[1], img.shape[2]))  # Créer la collection d'images (un seul échantillon)\n",
    "    img = preprocess_input(img)  # Prétraiter l'image comme le veut VGG-16 en entrée du modèle\n",
    "\n",
    "    y = model.predict(img)  # on \"fait passer\" l'image img prétraitée\n",
    "    #dans notre modèle vgg16 et on obtient les features caractéristiques en sortie.\n",
    "\n",
    "    \n",
    "    # append vgg16 so that we have all the features for each image in one place\n",
    "    vgg16_list.append(y)\n",
    "    \n",
    "\n",
    "elapsed = timeit.default_timer() - start_time\n",
    "\n",
    "print(elapsed)\n"
   ]
  },
  {
   "cell_type": "code",
   "execution_count": 17,
   "metadata": {},
   "outputs": [],
   "source": [
    "vgg16_ravel = []\n",
    "    # use numpy.ravel(a, order='C') to return a contiguous flattened array of the features we got \n",
    "    # from the output of the ResNet model, for the current image. \n",
    "    # cela nous servira par la suite pour créer le dataframe\n",
    "    \n",
    "for y in vgg16_list :\n",
    "    y_i = y.ravel().tolist()\n",
    "    vgg16_ravel.append(y_i)"
   ]
  },
  {
   "cell_type": "code",
   "execution_count": 18,
   "metadata": {},
   "outputs": [
    {
     "data": {
      "text/plain": [
       "195"
      ]
     },
     "execution_count": 18,
     "metadata": {},
     "output_type": "execute_result"
    }
   ],
   "source": [
    "len(vgg16_ravel)"
   ]
  },
  {
   "cell_type": "markdown",
   "metadata": {},
   "source": [
    "#### Création dataframe avec features caractéristiques sur PySpark :"
   ]
  },
  {
   "cell_type": "code",
   "execution_count": 19,
   "metadata": {},
   "outputs": [
    {
     "name": "stdout",
     "output_type": "stream",
     "text": [
      "+--------------------+\n",
      "|         vgg16_ravel|\n",
      "+--------------------+\n",
      "|[-3.0943384170532...|\n",
      "|[-4.2898960113525...|\n",
      "|[-3.2071840763092...|\n",
      "|[-8.0951824188232...|\n",
      "|[-13.463494300842...|\n",
      "|[-12.097022056579...|\n",
      "|[-17.961984634399...|\n",
      "|[-12.268792152404...|\n",
      "|[-13.516481399536...|\n",
      "|[-17.392360687255...|\n",
      "|[-10.277982711791...|\n",
      "|[-13.463138580322...|\n",
      "|[-10.290650367736...|\n",
      "|[9.05105686187744...|\n",
      "|[14.6601247787475...|\n",
      "|[-5.1689772605896...|\n",
      "|[-12.798377037048...|\n",
      "|[-15.157382011413...|\n",
      "|[3.96180891990661...|\n",
      "|[-11.688084602355...|\n",
      "+--------------------+\n",
      "only showing top 20 rows\n",
      "\n"
     ]
    }
   ],
   "source": [
    "# création du dataframe avec les matrices de valeurs pour chaque image, prétraitées par VGG16\n",
    "\n",
    "df_spark_vgg16 = spark.createDataFrame([(l,) for l in vgg16_ravel], ['vgg16_ravel'])\n",
    "df_spark_vgg16.show()"
   ]
  },
  {
   "cell_type": "markdown",
   "metadata": {},
   "source": [
    "#### re-scale dataframe :"
   ]
  },
  {
   "cell_type": "code",
   "execution_count": 22,
   "metadata": {},
   "outputs": [
    {
     "name": "stdout",
     "output_type": "stream",
     "text": [
      "+--------------------+\n",
      "|         vgg16_ravel|\n",
      "+--------------------+\n",
      "|[-3.0943384170532...|\n",
      "|[-4.2898960113525...|\n",
      "|[-3.2071840763092...|\n",
      "|[-8.0951824188232...|\n",
      "|[-13.463494300842...|\n",
      "|[-12.097022056579...|\n",
      "|[-17.961984634399...|\n",
      "|[-12.268792152404...|\n",
      "|[-13.516481399536...|\n",
      "|[-17.392360687255...|\n",
      "|[-10.277982711791...|\n",
      "|[-13.463138580322...|\n",
      "|[-10.290650367736...|\n",
      "|[9.05105686187744...|\n",
      "|[14.6601247787475...|\n",
      "|[-5.1689772605896...|\n",
      "|[-12.798377037048...|\n",
      "|[-15.157382011413...|\n",
      "|[3.96180891990661...|\n",
      "|[-11.688084602355...|\n",
      "+--------------------+\n",
      "only showing top 20 rows\n",
      "\n"
     ]
    },
    {
     "name": "stderr",
     "output_type": "stream",
     "text": [
      "                                                                                \r"
     ]
    }
   ],
   "source": [
    "# on transforme la colonne de type array double en un vecteur dense\n",
    "\n",
    "from pyspark.ml.linalg import Vectors\n",
    "from pyspark.sql.functions import udf\n",
    "from pyspark.ml.linalg import VectorUDT\n",
    "from pyspark.ml.linalg import DenseVector\n",
    "#from pyspark.mllib.linalg import DenseVector\n",
    "#from pyspark.mllib.linalg import VectorUDT\n",
    "\n",
    "function_dense = udf(lambda x: Vectors.dense(x), VectorUDT())\n",
    "\n",
    "df_spark_vgg16_dense = df_spark_vgg16.withColumn(\"vgg16_ravel\", function_dense(df_spark_vgg16[\"vgg16_ravel\"]))\n",
    "\n",
    "df_spark_vgg16_dense.show()"
   ]
  },
  {
   "cell_type": "code",
   "execution_count": 23,
   "metadata": {},
   "outputs": [
    {
     "name": "stderr",
     "output_type": "stream",
     "text": [
      "                                                                                \r"
     ]
    },
    {
     "data": {
      "text/plain": [
       "'vgg16_ravel'"
      ]
     },
     "execution_count": 23,
     "metadata": {},
     "output_type": "execute_result"
    }
   ],
   "source": [
    "from pyspark.ml.feature import StandardScaler\n",
    "\n",
    "#df = spark.createDataFrame([(Vectors.dense([0.0]),), (Vectors.dense([2.0]),)], [\"a\"])\n",
    "standardScaler = StandardScaler()\n",
    "\n",
    "standardScaler.setInputCol(\"vgg16_ravel\")\n",
    "standardScaler.setOutputCol(\"scaled\")\n",
    "\n",
    "model_stsc = standardScaler.fit(df_spark_vgg16_dense)\n",
    "\n",
    "model_stsc.getInputCol()"
   ]
  },
  {
   "cell_type": "code",
   "execution_count": 24,
   "metadata": {},
   "outputs": [
    {
     "data": {
      "text/plain": [
       "StandardScalerModel: uid=StandardScaler_dc6efcfa9678, numFeatures=512, withMean=false, withStd=true"
      ]
     },
     "execution_count": 24,
     "metadata": {},
     "output_type": "execute_result"
    }
   ],
   "source": [
    "model_stsc.setOutputCol(\"scaled\")\n"
   ]
  },
  {
   "cell_type": "code",
   "execution_count": 25,
   "metadata": {},
   "outputs": [
    {
     "name": "stdout",
     "output_type": "stream",
     "text": [
      "+--------------------+--------------------+\n",
      "|         vgg16_ravel|              scaled|\n",
      "+--------------------+--------------------+\n",
      "|[-3.0943384170532...|[-0.4019838301890...|\n",
      "|[-4.2898960113525...|[-0.5572980706481...|\n",
      "|[-3.2071840763092...|[-0.4166435487505...|\n",
      "|[-8.0951824188232...|[-1.0516407697567...|\n",
      "|[-13.463494300842...|[-1.7490352629029...|\n",
      "|[-12.097022056579...|[-1.5715175927060...|\n",
      "|[-17.961984634399...|[-2.3334317091306...|\n",
      "|[-12.268792152404...|[-1.5938321529530...|\n",
      "|[-13.516481399536...|[-1.7559187882361...|\n",
      "|[-17.392360687255...|[-2.2594321702378...|\n",
      "|[-10.277982711791...|[-1.3352071752506...|\n",
      "|[-13.463138580322...|[-1.7489890514425...|\n",
      "|[-10.290650367736...|[-1.3368528235831...|\n",
      "|[9.05105686187744...|[1.17581790167003...|\n",
      "|[14.6601247787475...|[1.90448888109099...|\n",
      "|[-5.1689772605896...|[-0.6714990402862...|\n",
      "|[-12.798377037048...|[-1.6626302388915...|\n",
      "|[-15.157382011413...|[-1.9690872992454...|\n",
      "|[3.96180891990661...|[0.51467645404406...|\n",
      "|[-11.688084602355...|[-1.5183927492013...|\n",
      "+--------------------+--------------------+\n",
      "only showing top 20 rows\n",
      "\n"
     ]
    }
   ],
   "source": [
    "df_spark_std = model_stsc.transform(df_spark_vgg16_dense)\n",
    "\n",
    "df_spark_std.show()"
   ]
  },
  {
   "cell_type": "code",
   "execution_count": null,
   "metadata": {},
   "outputs": [],
   "source": []
  },
  {
   "cell_type": "markdown",
   "metadata": {},
   "source": [
    "### Réduction de dimension : PCA"
   ]
  },
  {
   "cell_type": "markdown",
   "metadata": {},
   "source": [
    "##### PySpark"
   ]
  },
  {
   "cell_type": "code",
   "execution_count": 61,
   "metadata": {},
   "outputs": [],
   "source": [
    "### choisir le bon k pour le PCA (à combien de dimension on réduit ?)"
   ]
  },
  {
   "cell_type": "code",
   "execution_count": 45,
   "metadata": {},
   "outputs": [
    {
     "name": "stdout",
     "output_type": "stream",
     "text": [
      "sum of explained variances :0.9015542595920946\n",
      "for k = 65\n"
     ]
    },
    {
     "data": {
      "image/png": "[encoded data removed]",
      "text/plain": [
       "<Figure size 720x576 with 1 Axes>"
      ]
     },
     "metadata": {
      "needs_background": "light"
     },
     "output_type": "display_data"
    }
   ],
   "source": [
    "from pyspark.ml.feature import VectorAssembler\n",
    "from pyspark.ml.feature import PCA\n",
    "\n",
    "\n",
    "pca = PCA(k=100, inputCol=\"scaled\", outputCol=\"features\") # here I Have defined maximum number of features that I have\n",
    "model_pca = pca.fit(df_spark_std) # fit the data to pca to make the model\n",
    "#print(model_pca.explainedVariance) # here it will explain the variances\n",
    "cumValues = model_pca.explainedVariance.cumsum() # get the cumulative values\n",
    "\n",
    "for i in range(100) :\n",
    "    if cumValues[i]>0.9 :\n",
    "        print ('sum of explained variances :'+ str(cumValues[i]))\n",
    "        print ('for k = '+str(i)) \n",
    "        break\n",
    "\n",
    "\n",
    "    \n",
    "# plot the graph \n",
    "plt.figure(figsize=(10,8))\n",
    "plt.plot(range(0,100), cumValues, marker = 'o', linestyle='--')\n",
    "plt.title('variance by components')\n",
    "plt.xlabel('num of components')\n",
    "plt.ylabel('cumulative explained variance')\n",
    "plt.axhline(0.9, lw = 1, c = 'orangered')\n",
    "plt.text(1, 0.9, '90%', c = 'orangered')\n",
    "plt.show()"
   ]
  },
  {
   "cell_type": "code",
   "execution_count": 47,
   "metadata": {},
   "outputs": [
    {
     "name": "stdout",
     "output_type": "stream",
     "text": [
      "+--------------------+\n",
      "|         pcaFeatures|\n",
      "+--------------------+\n",
      "|[-11.588194011128...|\n",
      "|[-14.066270039090...|\n",
      "|[-10.398679887832...|\n",
      "|[-17.660177898042...|\n",
      "|[-18.265217005210...|\n",
      "|[-18.368651450087...|\n",
      "|[-19.360984020120...|\n",
      "|[-21.503987330574...|\n",
      "|[-21.653342370782...|\n",
      "|[-10.542837265719...|\n",
      "|[-11.937251204828...|\n",
      "|[-11.837986722000...|\n",
      "|[-14.149781180603...|\n",
      "|[-9.9878800323457...|\n",
      "|[-9.7129260689631...|\n",
      "|[-12.563673867114...|\n",
      "|[-8.2078468651396...|\n",
      "|[-8.7794450211486...|\n",
      "|[-8.4975154456611...|\n",
      "|[-15.349430937945...|\n",
      "+--------------------+\n",
      "only showing top 20 rows\n",
      "\n"
     ]
    }
   ],
   "source": [
    "from pyspark.ml.feature import PCA\n",
    "from pyspark.mllib.linalg import Vectors\n",
    "\n",
    "\n",
    "pca = PCA(k=65, inputCol=\"scaled\",outputCol=\"pcaFeatures\")\n",
    "model_pca = pca.fit(df_spark_std)\n",
    "result = model_pca.transform(df_spark_std).select([\"pcaFeatures\"])\n",
    "result.show()\n"
   ]
  },
  {
   "cell_type": "code",
   "execution_count": null,
   "metadata": {},
   "outputs": [],
   "source": []
  },
  {
   "cell_type": "code",
   "execution_count": null,
   "metadata": {},
   "outputs": [],
   "source": []
  },
  {
   "cell_type": "markdown",
   "metadata": {},
   "source": [
    "### fusion des dataframes"
   ]
  },
  {
   "cell_type": "code",
   "execution_count": 89,
   "metadata": {},
   "outputs": [
    {
     "name": "stdout",
     "output_type": "stream",
     "text": [
      "+--------------------+-------+\n",
      "|         pcaFeatures|row_idx|\n",
      "+--------------------+-------+\n",
      "|[-11.588194011128...|      1|\n",
      "|[-14.066270039090...|      2|\n",
      "|[-10.398679887832...|      3|\n",
      "|[-17.660177898042...|      4|\n",
      "|[-18.265217005210...|      5|\n",
      "|[-18.368651450087...|      6|\n",
      "|[-19.360984020120...|      7|\n",
      "|[-21.503987330574...|      8|\n",
      "|[-21.653342370782...|      9|\n",
      "|[-10.542837265719...|     10|\n",
      "|[-11.937251204828...|     11|\n",
      "|[-11.837986722000...|     12|\n",
      "|[-14.149781180603...|     13|\n",
      "|[-9.9878800323457...|     14|\n",
      "|[-9.7129260689631...|     15|\n",
      "|[-12.563673867114...|     16|\n",
      "|[-8.2078468651396...|     17|\n",
      "|[-8.7794450211486...|     18|\n",
      "|[-8.4975154456611...|     19|\n",
      "|[-15.349430937945...|     20|\n",
      "+--------------------+-------+\n",
      "only showing top 20 rows\n",
      "\n",
      "+--------------------+----------+------------------+-----------+-------+\n",
      "|                path|    Folder|          Category|      Image|row_idx|\n",
      "+--------------------+----------+------------------+-----------+-------+\n",
      "|fruits-360/Apple ...|fruits-360|Apple Crimson Snow|  0_100.jpg|      1|\n",
      "|fruits-360/Apple ...|fruits-360|Apple Crimson Snow| 10_100.jpg|      2|\n",
      "|fruits-360/Apple ...|fruits-360|Apple Crimson Snow|111_100.jpg|      3|\n",
      "|fruits-360/Apple ...|fruits-360|    Apple Golden 2|  0_100.jpg|      4|\n",
      "|fruits-360/Apple ...|fruits-360|    Apple Golden 2|100_100.jpg|      5|\n",
      "|fruits-360/Apple ...|fruits-360|    Apple Golden 2|101_100.jpg|      6|\n",
      "|fruits-360/Apple ...|fruits-360|Apple Granny Smith|  0_100.jpg|      7|\n",
      "|fruits-360/Apple ...|fruits-360|Apple Granny Smith|100_100.jpg|      8|\n",
      "|fruits-360/Apple ...|fruits-360|Apple Granny Smith|101_100.jpg|      9|\n",
      "|fruits-360/Apple ...|fruits-360|       Apple Red 1|  0_100.jpg|     10|\n",
      "|fruits-360/Apple ...|fruits-360|       Apple Red 1|100_100.jpg|     11|\n",
      "|fruits-360/Apple ...|fruits-360|       Apple Red 1|101_100.jpg|     12|\n",
      "|fruits-360/Apple ...|fruits-360|       Apple Red 3|  0_100.jpg|     13|\n",
      "|fruits-360/Apple ...|fruits-360|       Apple Red 3|100_100.jpg|     14|\n",
      "|fruits-360/Apple ...|fruits-360|       Apple Red 3|101_100.jpg|     15|\n",
      "|fruits-360/Apple ...|fruits-360|Apple Red Yellow 1|  0_100.jpg|     16|\n",
      "|fruits-360/Apple ...|fruits-360|Apple Red Yellow 1|100_100.jpg|     17|\n",
      "|fruits-360/Apple ...|fruits-360|Apple Red Yellow 1|101_100.jpg|     18|\n",
      "|fruits-360/Aprico...|fruits-360|           Apricot|  0_100.jpg|     19|\n",
      "|fruits-360/Aprico...|fruits-360|           Apricot|100_100.jpg|     20|\n",
      "+--------------------+----------+------------------+-----------+-------+\n",
      "only showing top 20 rows\n",
      "\n"
     ]
    }
   ],
   "source": [
    "from pyspark.sql.functions import monotonically_increasing_id, row_number\n",
    "from pyspark.sql import Window\n",
    "\n",
    "#add 'sequential' index and join both dataframe to get the final result\n",
    "result = result.withColumn(\"row_idx\", row_number().over(Window.orderBy(monotonically_increasing_id())))\n",
    "\n",
    "df1 = df1.withColumn(\"row_idx\", row_number().over(Window.orderBy(monotonically_increasing_id())))\n",
    "\n",
    "result.show()\n",
    "df1.show()"
   ]
  },
  {
   "cell_type": "code",
   "execution_count": 88,
   "metadata": {},
   "outputs": [
    {
     "name": "stdout",
     "output_type": "stream",
     "text": [
      "+--------------------+----------+------------------+-----------+--------------------+\n",
      "|                path|    Folder|          Category|      Image|         pcaFeatures|\n",
      "+--------------------+----------+------------------+-----------+--------------------+\n",
      "|fruits-360/Apple ...|fruits-360|Apple Crimson Snow|  0_100.jpg|[-11.588194011128...|\n",
      "|fruits-360/Apple ...|fruits-360|Apple Crimson Snow| 10_100.jpg|[-14.066270039090...|\n",
      "|fruits-360/Apple ...|fruits-360|Apple Crimson Snow|111_100.jpg|[-10.398679887832...|\n",
      "|fruits-360/Apple ...|fruits-360|    Apple Golden 2|  0_100.jpg|[-17.660177898042...|\n",
      "|fruits-360/Apple ...|fruits-360|    Apple Golden 2|100_100.jpg|[-18.265217005210...|\n",
      "|fruits-360/Apple ...|fruits-360|    Apple Golden 2|101_100.jpg|[-18.368651450087...|\n",
      "|fruits-360/Apple ...|fruits-360|Apple Granny Smith|  0_100.jpg|[-19.360984020120...|\n",
      "|fruits-360/Apple ...|fruits-360|Apple Granny Smith|100_100.jpg|[-21.503987330574...|\n",
      "|fruits-360/Apple ...|fruits-360|Apple Granny Smith|101_100.jpg|[-21.653342370782...|\n",
      "|fruits-360/Apple ...|fruits-360|       Apple Red 1|  0_100.jpg|[-10.542837265719...|\n",
      "|fruits-360/Apple ...|fruits-360|       Apple Red 1|100_100.jpg|[-11.937251204828...|\n",
      "|fruits-360/Apple ...|fruits-360|       Apple Red 1|101_100.jpg|[-11.837986722000...|\n",
      "|fruits-360/Apple ...|fruits-360|       Apple Red 3|  0_100.jpg|[-14.149781180603...|\n",
      "|fruits-360/Apple ...|fruits-360|       Apple Red 3|100_100.jpg|[-9.9878800323457...|\n",
      "|fruits-360/Apple ...|fruits-360|       Apple Red 3|101_100.jpg|[-9.7129260689631...|\n",
      "|fruits-360/Apple ...|fruits-360|Apple Red Yellow 1|  0_100.jpg|[-12.563673867114...|\n",
      "|fruits-360/Apple ...|fruits-360|Apple Red Yellow 1|100_100.jpg|[-8.2078468651396...|\n",
      "|fruits-360/Apple ...|fruits-360|Apple Red Yellow 1|101_100.jpg|[-8.7794450211486...|\n",
      "|fruits-360/Aprico...|fruits-360|           Apricot|  0_100.jpg|[-8.4975154456611...|\n",
      "|fruits-360/Aprico...|fruits-360|           Apricot|100_100.jpg|[-15.349430937945...|\n",
      "+--------------------+----------+------------------+-----------+--------------------+\n",
      "only showing top 20 rows\n",
      "\n"
     ]
    }
   ],
   "source": [
    "final_df = df1.join(result, df1.row_idx == result.row_idx).\\\n",
    "             drop(\"row_idx\")\n",
    "final_df.show()"
   ]
  },
  {
   "cell_type": "code",
   "execution_count": null,
   "metadata": {},
   "outputs": [],
   "source": []
  },
  {
   "cell_type": "code",
   "execution_count": null,
   "metadata": {},
   "outputs": [],
   "source": []
  },
  {
   "cell_type": "markdown",
   "metadata": {},
   "source": [
    "## Enregistrement du dataframe sur s3"
   ]
  },
  {
   "cell_type": "markdown",
   "metadata": {},
   "source": [
    "### Création du CSV"
   ]
  },
  {
   "cell_type": "code",
   "execution_count": 76,
   "metadata": {},
   "outputs": [],
   "source": [
    "# on transforme la colonne au format array \"pca features\" en string pour pouvoir l'enregistrer au format csv\n",
    "\n",
    "\n",
    "from pyspark.sql.functions import udf\n",
    "from pyspark.sql.types import StringType\n",
    "\n",
    "def array_to_string(my_list):\n",
    "    return '[' + ','.join([str(elem) for elem in my_list]) + ']'\n",
    "\n",
    "array_to_string_udf = udf(array_to_string, StringType())\n",
    "\n",
    "final_df_P8 = final_df.withColumn('pcaFeatures_str', array_to_string_udf(final_df[\"pcaFeatures\"]))"
   ]
  },
  {
   "cell_type": "code",
   "execution_count": 86,
   "metadata": {},
   "outputs": [
    {
     "name": "stdout",
     "output_type": "stream",
     "text": [
      "+--------------------+----------+------------------+-----------+--------------------+\n",
      "|                path|    Folder|          Category|      Image|     pcaFeatures_str|\n",
      "+--------------------+----------+------------------+-----------+--------------------+\n",
      "|fruits-360/Apple ...|fruits-360|Apple Crimson Snow|  0_100.jpg|[-11.588194011128...|\n",
      "|fruits-360/Apple ...|fruits-360|Apple Crimson Snow| 10_100.jpg|[-14.066270039090...|\n",
      "|fruits-360/Apple ...|fruits-360|Apple Crimson Snow|111_100.jpg|[-10.398679887832...|\n",
      "|fruits-360/Apple ...|fruits-360|    Apple Golden 2|  0_100.jpg|[-17.660177898042...|\n",
      "|fruits-360/Apple ...|fruits-360|    Apple Golden 2|100_100.jpg|[-18.265217005210...|\n",
      "|fruits-360/Apple ...|fruits-360|    Apple Golden 2|101_100.jpg|[-18.368651450087...|\n",
      "|fruits-360/Apple ...|fruits-360|Apple Granny Smith|  0_100.jpg|[-19.360984020120...|\n",
      "|fruits-360/Apple ...|fruits-360|Apple Granny Smith|100_100.jpg|[-21.503987330574...|\n",
      "|fruits-360/Apple ...|fruits-360|Apple Granny Smith|101_100.jpg|[-21.653342370782...|\n",
      "|fruits-360/Apple ...|fruits-360|       Apple Red 1|  0_100.jpg|[-10.542837265719...|\n",
      "|fruits-360/Apple ...|fruits-360|       Apple Red 1|100_100.jpg|[-11.937251204828...|\n",
      "|fruits-360/Apple ...|fruits-360|       Apple Red 1|101_100.jpg|[-11.837986722000...|\n",
      "|fruits-360/Apple ...|fruits-360|       Apple Red 3|  0_100.jpg|[-14.149781180603...|\n",
      "|fruits-360/Apple ...|fruits-360|       Apple Red 3|100_100.jpg|[-9.9878800323457...|\n",
      "|fruits-360/Apple ...|fruits-360|       Apple Red 3|101_100.jpg|[-9.7129260689631...|\n",
      "|fruits-360/Apple ...|fruits-360|Apple Red Yellow 1|  0_100.jpg|[-12.563673867114...|\n",
      "|fruits-360/Apple ...|fruits-360|Apple Red Yellow 1|100_100.jpg|[-8.2078468651396...|\n",
      "|fruits-360/Apple ...|fruits-360|Apple Red Yellow 1|101_100.jpg|[-8.7794450211486...|\n",
      "|fruits-360/Aprico...|fruits-360|           Apricot|  0_100.jpg|[-8.4975154456611...|\n",
      "|fruits-360/Aprico...|fruits-360|           Apricot|100_100.jpg|[-15.349430937945...|\n",
      "+--------------------+----------+------------------+-----------+--------------------+\n",
      "only showing top 20 rows\n",
      "\n"
     ]
    }
   ],
   "source": [
    "# on supprime la colonne au format array\n",
    "\n",
    "final_df_P8 = final_df_P8.drop(\"pcaFeatures\")\n",
    "final_df_P8.show()"
   ]
  },
  {
   "cell_type": "code",
   "execution_count": 79,
   "metadata": {},
   "outputs": [
    {
     "name": "stdout",
     "output_type": "stream",
     "text": [
      "root\n",
      " |-- path: string (nullable = true)\n",
      " |-- Folder: string (nullable = true)\n",
      " |-- Category: string (nullable = true)\n",
      " |-- Image: string (nullable = true)\n",
      " |-- pcaFeatures_str: string (nullable = true)\n",
      "\n"
     ]
    }
   ],
   "source": [
    "final_df_P8.printSchema()"
   ]
  },
  {
   "cell_type": "code",
   "execution_count": null,
   "metadata": {
    "scrolled": true
   },
   "outputs": [],
   "source": []
  },
  {
   "cell_type": "code",
   "execution_count": null,
   "metadata": {},
   "outputs": [],
   "source": [
    "final_df_P8.write.csv('final_df_P8.csv')"
   ]
  },
  {
   "cell_type": "markdown",
   "metadata": {},
   "source": [
    "### Envoi dans S3"
   ]
  },
  {
   "cell_type": "code",
   "execution_count": 84,
   "metadata": {},
   "outputs": [
    {
     "data": {
      "text/plain": [
       "{'ResponseMetadata': {'RequestId': 'CC4M99N0KY3TCC41',\n",
       "  'HostId': '+w2/XfqtdZXrjjxmYg9Jxqsz+47b3bk3wHEarE2khubv8+i6dTwHFw3ZAEEPKuao45aK3FETahI=',\n",
       "  'HTTPStatusCode': 200,\n",
       "  'HTTPHeaders': {'x-amz-id-2': '+w2/XfqtdZXrjjxmYg9Jxqsz+47b3bk3wHEarE2khubv8+i6dTwHFw3ZAEEPKuao45aK3FETahI=',\n",
       "   'x-amz-request-id': 'CC4M99N0KY3TCC41',\n",
       "   'date': 'Thu, 10 Feb 2022 17:30:17 GMT',\n",
       "   'etag': '\"08c50c2891439cc187b71dd71c616a52\"',\n",
       "   'server': 'AmazonS3',\n",
       "   'content-length': '0'},\n",
       "  'RetryAttempts': 1},\n",
       " 'ETag': '\"08c50c2891439cc187b71dd71c616a52\"'}"
      ]
     },
     "execution_count": 84,
     "metadata": {},
     "output_type": "execute_result"
    }
   ],
   "source": [
    "s3 = boto3.resource('s3')\n",
    "bucket = s3.Bucket('donneesp8v2')\n",
    "s3.Object('donneesp8v2', 'final_df_P8.csv').put(Body=open('/home/ec2-user/final_df_P8.csv/final_df_P8.csv', 'rb'))"
   ]
  },
  {
   "cell_type": "code",
   "execution_count": null,
   "metadata": {},
   "outputs": [],
   "source": []
  },
  {
   "cell_type": "code",
   "execution_count": null,
   "metadata": {},
   "outputs": [],
   "source": []
  },
  {
   "cell_type": "code",
   "execution_count": null,
   "metadata": {},
   "outputs": [],
   "source": []
  },
  {
   "cell_type": "markdown",
   "metadata": {},
   "source": [
    "## Kmeans :"
   ]
  },
  {
   "cell_type": "code",
   "execution_count": 90,
   "metadata": {},
   "outputs": [
    {
     "name": "stdout",
     "output_type": "stream",
     "text": [
      "2  Silhouette Score: 0.14728104674895906\n",
      "3  Silhouette Score: 0.10788597959188441\n",
      "4  Silhouette Score: 0.052720470272529414\n",
      "5  Silhouette Score: 0.0637859818157531\n",
      "6  Silhouette Score: 0.06750299001743108\n",
      "7  Silhouette Score: -0.009709576434684558\n",
      "8  Silhouette Score: 0.047052411047311365\n",
      "9  Silhouette Score: 0.10274193637382299\n",
      "10  Silhouette Score: 0.1467086482205821\n",
      "11  Silhouette Score: 0.1347752767237736\n",
      "12  Silhouette Score: 0.129039979775723\n",
      "13  Silhouette Score: 0.10172251647523314\n",
      "14  Silhouette Score: 0.07116030217359208\n",
      "15  Silhouette Score: 0.062355929251173364\n",
      "16  Silhouette Score: 0.16984853207562448\n",
      "17  Silhouette Score: 0.1303726006588546\n",
      "18  Silhouette Score: 0.15007809857233947\n",
      "19  Silhouette Score: 0.19902420502341486\n",
      "20  Silhouette Score: 0.13037385422083508\n",
      "21  Silhouette Score: 0.21130193971210068\n",
      "22  Silhouette Score: 0.20714255383434277\n",
      "23  Silhouette Score: 0.22879774991238472\n",
      "24  Silhouette Score: 0.23441160317743628\n",
      "25  Silhouette Score: 0.2345845057282877\n",
      "26  Silhouette Score: 0.2521376974512555\n",
      "27  Silhouette Score: 0.27718895067488136\n",
      "28  Silhouette Score: 0.24701069995201796\n",
      "29  Silhouette Score: 0.2142755971525737\n",
      "30  Silhouette Score: 0.20031228974267876\n",
      "31  Silhouette Score: 0.19960920530354706\n",
      "32  Silhouette Score: 0.24937745905142747\n",
      "33  Silhouette Score: 0.2764347757736221\n",
      "34  Silhouette Score: 0.2838688257743365\n",
      "35  Silhouette Score: 0.29416390742564463\n",
      "36  Silhouette Score: 0.30219779203572394\n",
      "37  Silhouette Score: 0.3035839206795423\n",
      "38  Silhouette Score: 0.3107008630039356\n",
      "39  Silhouette Score: 0.3297182139899073\n",
      "40  Silhouette Score: 0.3421940991099829\n",
      "41  Silhouette Score: 0.30591672381962093\n",
      "42  Silhouette Score: 0.326543945130968\n",
      "43  Silhouette Score: 0.36278553751467474\n",
      "44  Silhouette Score: 0.3526131095317061\n",
      "45  Silhouette Score: 0.3964572527258781\n",
      "46  Silhouette Score: 0.35332334950339106\n",
      "47  Silhouette Score: 0.3522352899899653\n",
      "48  Silhouette Score: 0.3976258273031683\n",
      "49  Silhouette Score: 0.39530317116036495\n",
      "50  Silhouette Score: 0.41971410224845895\n",
      "51  Silhouette Score: 0.4369368552003255\n",
      "52  Silhouette Score: 0.3887937786157291\n",
      "53  Silhouette Score: 0.41222550615020753\n",
      "54  Silhouette Score: 0.44129242615167413\n",
      "55  Silhouette Score: 0.481338254604722\n",
      "56  Silhouette Score: 0.48809951011993485\n",
      "57  Silhouette Score: 0.43537485705244533\n",
      "58  Silhouette Score: 0.50968580350644\n",
      "59  Silhouette Score: 0.5080426084175643\n",
      "60  Silhouette Score: 0.5072207683314363\n",
      "61  Silhouette Score: 0.530083431835506\n",
      "62  Silhouette Score: 0.5519346707509418\n",
      "63  Silhouette Score: 0.5357043556819783\n",
      "64  Silhouette Score: 0.5336486876807371\n",
      "65  Silhouette Score: 0.5134490736760323\n",
      "66  Silhouette Score: 0.5286835709242045\n",
      "67  Silhouette Score: 0.5764544359979666\n",
      "68  Silhouette Score: 0.5757467011345142\n",
      "69  Silhouette Score: 0.4869551891440272\n",
      "70  Silhouette Score: 0.5827199765872478\n",
      "71  Silhouette Score: 0.5591602889285605\n",
      "72  Silhouette Score: 0.6070202789034965\n",
      "73  Silhouette Score: 0.621000656110158\n",
      "74  Silhouette Score: 0.5998935081404659\n"
     ]
    }
   ],
   "source": [
    "from pyspark.ml.clustering import KMeans\n",
    "from pyspark.ml.evaluation import ClusteringEvaluator\n",
    "silhouette_score=[]\n",
    "evaluator = ClusteringEvaluator(predictionCol='prediction', featuresCol='pcaFeatures', \\\n",
    "                                metricName='silhouette', distanceMeasure='squaredEuclidean')\n",
    "for i in range(2,75):\n",
    "    \n",
    "    KMeans_algo=KMeans(featuresCol='pcaFeatures', k=i)\n",
    "    \n",
    "    KMeans_fit=KMeans_algo.fit(final_df)\n",
    "    \n",
    "    output=KMeans_fit.transform(final_df)\n",
    "    \n",
    "    \n",
    "    \n",
    "    score=evaluator.evaluate(output)\n",
    "    \n",
    "    silhouette_score.append(score)\n",
    "    \n",
    "    print(i,\" Silhouette Score:\",score)"
   ]
  },
  {
   "cell_type": "code",
   "execution_count": 62,
   "metadata": {},
   "outputs": [
    {
     "data": {
      "text/plain": [
       "Text(0, 0.5, 'cost')"
      ]
     },
     "execution_count": 62,
     "metadata": {},
     "output_type": "execute_result"
    },
    {
     "data": {
      "image/png": "[encoded data removed]",
      "text/plain": [
       "<Figure size 576x432 with 1 Axes>"
      ]
     },
     "metadata": {
      "needs_background": "light"
     },
     "output_type": "display_data"
    }
   ],
   "source": [
    "#Visualizing the silhouette scores in a plot\n",
    "import matplotlib.pyplot as plt\n",
    "fig, ax = plt.subplots(1,1, figsize =(8,6))\n",
    "ax.plot(range(2,75),silhouette_score)\n",
    "ax.set_xlabel('k')\n",
    "ax.set_ylabel('cost')"
   ]
  },
  {
   "cell_type": "code",
   "execution_count": 91,
   "metadata": {},
   "outputs": [
    {
     "name": "stdout",
     "output_type": "stream",
     "text": [
      "+--------------------+----------+------------------+-----------+--------------------+----------+\n",
      "|                path|    Folder|          Category|      Image|         pcaFeatures|prediction|\n",
      "+--------------------+----------+------------------+-----------+--------------------+----------+\n",
      "|fruits-360/Apple ...|fruits-360|Apple Crimson Snow|  0_100.jpg|[-11.588194011128...|        24|\n",
      "|fruits-360/Apple ...|fruits-360|Apple Crimson Snow| 10_100.jpg|[-14.066270039090...|        24|\n",
      "|fruits-360/Apple ...|fruits-360|Apple Crimson Snow|111_100.jpg|[-10.398679887832...|        55|\n",
      "|fruits-360/Apple ...|fruits-360|    Apple Golden 2|  0_100.jpg|[-17.660177898042...|        13|\n",
      "|fruits-360/Apple ...|fruits-360|    Apple Golden 2|100_100.jpg|[-18.265217005210...|        13|\n",
      "|fruits-360/Apple ...|fruits-360|    Apple Golden 2|101_100.jpg|[-18.368651450087...|        13|\n",
      "|fruits-360/Apple ...|fruits-360|Apple Granny Smith|  0_100.jpg|[-19.360984020120...|        46|\n",
      "|fruits-360/Apple ...|fruits-360|Apple Granny Smith|100_100.jpg|[-21.503987330574...|        46|\n",
      "|fruits-360/Apple ...|fruits-360|Apple Granny Smith|101_100.jpg|[-21.653342370782...|        46|\n",
      "|fruits-360/Apple ...|fruits-360|       Apple Red 1|  0_100.jpg|[-10.542837265719...|        53|\n",
      "|fruits-360/Apple ...|fruits-360|       Apple Red 1|100_100.jpg|[-11.937251204828...|        53|\n",
      "|fruits-360/Apple ...|fruits-360|       Apple Red 1|101_100.jpg|[-11.837986722000...|        53|\n",
      "|fruits-360/Apple ...|fruits-360|       Apple Red 3|  0_100.jpg|[-14.149781180603...|        25|\n",
      "|fruits-360/Apple ...|fruits-360|       Apple Red 3|100_100.jpg|[-9.9878800323457...|        25|\n",
      "|fruits-360/Apple ...|fruits-360|       Apple Red 3|101_100.jpg|[-9.7129260689631...|        25|\n",
      "|fruits-360/Apple ...|fruits-360|Apple Red Yellow 1|  0_100.jpg|[-12.563673867114...|        24|\n",
      "|fruits-360/Apple ...|fruits-360|Apple Red Yellow 1|100_100.jpg|[-8.2078468651396...|        36|\n",
      "|fruits-360/Apple ...|fruits-360|Apple Red Yellow 1|101_100.jpg|[-8.7794450211486...|        36|\n",
      "|fruits-360/Aprico...|fruits-360|           Apricot|  0_100.jpg|[-8.4975154456611...|        58|\n",
      "|fruits-360/Aprico...|fruits-360|           Apricot|100_100.jpg|[-15.349430937945...|        29|\n",
      "+--------------------+----------+------------------+-----------+--------------------+----------+\n",
      "only showing top 20 rows\n",
      "\n"
     ]
    }
   ],
   "source": [
    "KMeans_algo=KMeans(featuresCol='pcaFeatures', k=65)\n",
    "    \n",
    "KMeans_fit=KMeans_algo.fit(final_df)\n",
    "    \n",
    "output=KMeans_fit.transform(final_df)\n",
    "\n",
    "output.show()"
   ]
  },
  {
   "cell_type": "code",
   "execution_count": null,
   "metadata": {},
   "outputs": [],
   "source": []
  },
  {
   "cell_type": "code",
   "execution_count": null,
   "metadata": {},
   "outputs": [],
   "source": []
  },
  {
   "cell_type": "code",
   "execution_count": null,
   "metadata": {},
   "outputs": [],
   "source": []
  },
  {
   "cell_type": "code",
   "execution_count": null,
   "metadata": {},
   "outputs": [],
   "source": []
  },
  {
   "cell_type": "code",
   "execution_count": null,
   "metadata": {},
   "outputs": [],
   "source": [
    "# annexe : "
   ]
  },
  {
   "cell_type": "code",
   "execution_count": null,
   "metadata": {},
   "outputs": [],
   "source": [
    "\n",
    "#add 'sequential' index and join both dataframe to get the final result\n",
    "a = a.withColumn(\"row_idx\", row_number().over(Window.orderBy(monotonically_increasing_id())))\n",
    "b = b.withColumn(\"row_idx\", row_number().over(Window.orderBy(monotonically_increasing_id())))\n",
    "\n",
    "final_df = a.join(b, a.row_idx == b.row_idx).\\\n",
    "             drop(\"row_idx\")\n",
    "final_df.show()"
   ]
  }
 ],
 "metadata": {
  "kernelspec": {
   "display_name": "Python 3 (ipykernel)",
   "language": "python",
   "name": "python3"
  },
  "language_info": {
   "codemirror_mode": {
    "name": "ipython",
    "version": 3
   },
   "file_extension": ".py",
   "mimetype": "text/x-python",
   "name": "python",
   "nbconvert_exporter": "python",
   "pygments_lexer": "ipython3",
   "version": "3.7.10"
  }
 },
 "nbformat": 4,
 "nbformat_minor": 4
}
